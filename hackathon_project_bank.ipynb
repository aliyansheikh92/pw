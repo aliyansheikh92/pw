{
 "cells": [
  {
   "cell_type": "code",
   "execution_count": null,
   "id": "78b00e91-43f4-41f5-8a4d-ffb283bdf439",
   "metadata": {},
   "outputs": [],
   "source": [
    "class BankAccount:\n",
    "    def _init_(self, account_number, name, initial_deposit=0):\n",
    "        self.account_number = account_number\n",
    "        self.name = name\n",
    "        self.balance = initial_deposit\n",
    "\n",
    "    def deposit(self, amount):\n",
    "        self.balance += amount\n",
    "        return f\"Deposited: {amount}, New Balance: {self.balance}\"\n",
    "\n",
    "    def withdraw(self, amount):\n",
    "        if amount > self.balance:\n",
    "            return \"Insufficient balance!\"\n",
    "        self.balance -= amount\n",
    "        return f\"Withdrew: {amount}, New Balance: {self.balance}\"\n",
    "\n",
    "    def get_balance(self):\n",
    "        return f\"Account Holder: {self.name}, Balance: {self.balance}\""
   ]
  },
  {
   "cell_type": "code",
   "execution_count": null,
   "id": "f79202d1-f069-4e9f-9e27-9b1f0c2157bb",
   "metadata": {},
   "outputs": [],
   "source": [
    "class Bank:\n",
    "    def _init_(self):\n",
    "        self.accounts = {}\n",
    "\n",
    "    def create_account(self, name, initial_deposit):\n",
    "        account_number = len(self.accounts) + 1\n",
    "        self.accounts[account_number] = BankAccount(account_number, name, initial_deposit)\n",
    "        return (f\"Account created for {name} with Account Number: {account_number} and Initial Deposit: {initial_deposit}\")\n",
    "\n",
    "    def get_balance(self, account_number):\n",
    "        account = self.accounts.get(account_number)\n",
    "        return account.get_balance() if account else \"Account not found!\""
   ]
  },
  {
   "cell_type": "code",
   "execution_count": null,
   "id": "bd34cda0-5e82-48f3-8b3a-937317bbf3b6",
   "metadata": {},
   "outputs": [],
   "source": [
    "\n",
    "    bank = Bank()\n",
    "\n",
    "# Pre-create an account for Ali with 5000\n",
    "print(bank.create_account(\"Ali\", 5000))\n",
    "\n",
    "while True:\n",
    "    print(\"\\n1. Create Account\\n2. Deposit\\n3. Withdraw\\n4. Check Balance\\n5. Exit\")\n",
    "    choice = int(input(\"Enter choice: \"))\n",
    "\n",
    "    if choice == 1:\n",
    "        name = input(\"Enter your name: \")\n",
    "        initial_deposit = float(input(\"Enter initial deposit: \"))\n",
    "        print(bank.create_account(name, initial_deposit))\n",
    "    elif choice == 2:\n",
    "        acc = int(input(\"Enter account number: \"))\n",
    "        amt = float(input(\"Enter amount to deposit: \"))\n",
    "        print(bank.accounts[acc].deposit(amt) if acc in bank.accounts else \"Account not found!\")\n",
    "    elif choice == 3:\n",
    "        acc = int(input(\"Enter account number: \"))\n",
    "        amt = float(input(\"Enter amount to withdraw: \"))\n",
    "        print(bank.accounts[acc].withdraw(amt) if acc in bank.accounts else \"Account not found!\")\n",
    "    elif choice == 4:\n",
    "        acc = int(input(\"Enter account number: \"))\n",
    "        print(bank.get_balance(acc))\n",
    "    elif choice == 5:\n",
    "        print(\"Goodbye!\")\n",
    "        break\n",
    "    else:\n",
    "        print(\"Invalid choice!\")\n"
   ]
  },
  {
   "cell_type": "code",
   "execution_count": null,
   "id": "58bae37a-2c4e-4163-a181-a259b4c5d084",
   "metadata": {},
   "outputs": [],
   "source": [
    "Account created for Ali with Account Number: 1 and Initial Deposit: 5000\n",
    "\n",
    "1. Create Account\n",
    "2. Deposit\n",
    "3. Withdraw\n",
    "4. Check Balance\n",
    "5. Exit\n",
    "Enter choice: 4\n",
    "Enter account number: 1\n",
    "Account Holder: Ali, Balance: 5000"
   ]
  },
  {
   "cell_type": "code",
   "execution_count": null,
   "id": "f38c8f39-7dbc-4883-9f88-0d3a68f7ae01",
   "metadata": {},
   "outputs": [],
   "source": [
    "\n"
   ]
  },
  {
   "cell_type": "code",
   "execution_count": null,
   "id": "ed4e8e9f-9999-4f2e-9230-9e7ba617712d",
   "metadata": {},
   "outputs": [],
   "source": []
  },
  {
   "cell_type": "code",
   "execution_count": null,
   "id": "0d7effdb-1170-403d-acc5-5d7601ea3d7e",
   "metadata": {},
   "outputs": [],
   "source": []
  }
 ],
 "metadata": {
  "kernelspec": {
   "display_name": "Python 3 (ipykernel)",
   "language": "python",
   "name": "python3"
  },
  "language_info": {
   "codemirror_mode": {
    "name": "ipython",
    "version": 3
   },
   "file_extension": ".py",
   "mimetype": "text/x-python",
   "name": "python",
   "nbconvert_exporter": "python",
   "pygments_lexer": "ipython3",
   "version": "3.12.7"
  }
 },
 "nbformat": 4,
 "nbformat_minor": 5
}
